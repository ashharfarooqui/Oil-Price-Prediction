{
 "cells": [
  {
   "cell_type": "markdown",
   "id": "20e3b984",
   "metadata": {},
   "source": [
    "# `Group 5: P579 Project` \n",
    "# Oil Price Prediction"
   ]
  },
  {
   "cell_type": "code",
   "execution_count": 1,
   "id": "a89d8d6e",
   "metadata": {},
   "outputs": [],
   "source": [
    "# Loading necessary libraries\n",
    "import pandas as pd \n",
    "import numpy as np\n",
    "import matplotlib.pyplot as plt\n",
    "import seaborn as sns"
   ]
  },
  {
   "cell_type": "code",
   "execution_count": 2,
   "id": "06501d96",
   "metadata": {},
   "outputs": [
    {
     "data": {
      "application/vnd.microsoft.datawrangler.viewer.v0+json": {
       "columns": [
        {
         "name": "index",
         "rawType": "int64",
         "type": "integer"
        },
        {
         "name": "Date",
         "rawType": "object",
         "type": "string"
        },
        {
         "name": "Close/Last",
         "rawType": "float64",
         "type": "float"
        },
        {
         "name": "Volume",
         "rawType": "float64",
         "type": "float"
        },
        {
         "name": "Open",
         "rawType": "float64",
         "type": "float"
        },
        {
         "name": "High",
         "rawType": "float64",
         "type": "float"
        },
        {
         "name": "Low",
         "rawType": "float64",
         "type": "float"
        }
       ],
       "ref": "d2c1e99b-fffa-47ac-9ae3-716168bfd76f",
       "rows": [
        [
         "0",
         "10/28/2022",
         "87.9",
         "241417.0",
         "88.67",
         "88.76",
         "87.08"
        ],
        [
         "1",
         "10/27/2022",
         "88.26",
         "273717.0",
         "88.26",
         "89.79",
         "87.33"
        ],
        [
         "2",
         "10/26/2022",
         "87.91",
         "271474.0",
         "85.07",
         "88.41",
         "84.14"
        ],
        [
         "3",
         "10/25/2022",
         "85.32",
         "226337.0",
         "84.88",
         "86.03",
         "83.06"
        ],
        [
         "4",
         "10/24/2022",
         "84.58",
         "238458.0",
         "85.24",
         "85.92",
         "82.63"
        ],
        [
         "5",
         "10/21/2022",
         "85.14",
         "259938.0",
         "85.07",
         "85.9",
         "83.15"
        ],
        [
         "6",
         "10/20/2022",
         "85.98",
         "12307.0",
         "85.94",
         "88.17",
         "85.22"
        ],
        [
         "7",
         "10/19/2022",
         "85.55",
         "38236.0",
         "83.69",
         "86.2",
         "82.59"
        ],
        [
         "8",
         "10/18/2022",
         "82.82",
         "83685.0",
         "85.7",
         "86.51",
         "82.09"
        ],
        [
         "9",
         "10/17/2022",
         "85.46",
         "143488.0",
         "85.59",
         "87.12",
         "84.61"
        ],
        [
         "10",
         "10/14/2022",
         "85.61",
         "216029.0",
         "89.27",
         "89.73",
         "85.2"
        ],
        [
         "11",
         "10/13/2022",
         "89.11",
         "267171.0",
         "87.08",
         "89.66",
         "85.56"
        ],
        [
         "12",
         "10/12/2022",
         "87.27",
         "303948.0",
         "88.67",
         "90.07",
         "86.28"
        ],
        [
         "13",
         "10/11/2022",
         "89.35",
         "295289.0",
         "91.14",
         "91.35",
         "87.91"
        ],
        [
         "14",
         "10/10/2022",
         "91.13",
         "260430.0",
         "93.48",
         "93.64",
         "90.54"
        ],
        [
         "15",
         "10/07/2022",
         "92.64",
         "385917.0",
         "88.93",
         "93.31",
         "92.15"
        ],
        [
         "16",
         "10/06/2022",
         "88.45",
         "216395.0",
         "88.08",
         "89.07",
         "87.04"
        ],
        [
         "17",
         "10/05/2022",
         "87.76",
         "312995.0",
         "86.37",
         "88.42",
         "85.42"
        ],
        [
         "18",
         "10/04/2022",
         "86.52",
         "281912.0",
         "83.22",
         "86.98",
         "86.03"
        ],
        [
         "19",
         "10/03/2022",
         "83.63",
         "267875.0",
         "81.02",
         "84.56",
         "81.34"
        ],
        [
         "20",
         "09/30/2022",
         "79.49",
         "237146.0",
         "81.74",
         "79.97",
         "79.39"
        ],
        [
         "21",
         "09/29/2022",
         "81.23",
         "269124.0",
         "81.9",
         "82.94",
         "80.77"
        ],
        [
         "22",
         "09/28/2022",
         "82.15",
         "310455.0",
         "78.08",
         "82.34",
         "80.0"
        ],
        [
         "23",
         "09/27/2022",
         "78.5",
         "271109.0",
         "76.47",
         "79.51",
         "77.31"
        ],
        [
         "24",
         "09/26/2022",
         "76.71",
         "269230.0",
         "79.23",
         "77.27",
         "76.25"
        ],
        [
         "25",
         "09/23/2022",
         "78.74",
         "316160.0",
         "83.54",
         "79.45",
         "78.04"
        ],
        [
         "26",
         "09/22/2022",
         "83.49",
         "287041.0",
         "83.07",
         "84.06",
         "82.97"
        ],
        [
         "27",
         "09/21/2022",
         "82.94",
         "325553.0",
         "84.25",
         "84.23",
         "82.49"
        ],
        [
         "28",
         "09/20/2022",
         "84.45",
         "17105.0",
         "85.61",
         "84.9",
         "84.0"
        ],
        [
         "29",
         "09/19/2022",
         "85.73",
         "34430.0",
         "85.21",
         "86.22",
         "82.1"
        ],
        [
         "30",
         "09/16/2022",
         "85.11",
         "72566.0",
         "85.16",
         "86.59",
         "84.27"
        ],
        [
         "31",
         "09/15/2022",
         "85.1",
         "217557.0",
         "88.91",
         "85.9",
         "84.75"
        ],
        [
         "32",
         "09/14/2022",
         "88.48",
         "296050.0",
         "87.94",
         "90.19",
         "88.02"
        ],
        [
         "33",
         "09/13/2022",
         "87.31",
         "315599.0",
         "88.09",
         "87.97",
         "86.61"
        ],
        [
         "34",
         "09/12/2022",
         "87.78",
         "245965.0",
         "86.25",
         "88.75",
         "87.36"
        ],
        [
         "35",
         "09/09/2022",
         "86.79",
         "265221.0",
         "82.8",
         "87.2",
         "82.71"
        ],
        [
         "36",
         "09/08/2022",
         "83.54",
         "307373.0",
         "81.91",
         "83.38",
         "82.46"
        ],
        [
         "37",
         "09/07/2022",
         "81.94",
         "364766.0",
         "86.93",
         "83.91",
         "81.5"
        ],
        [
         "38",
         "09/06/2022",
         "86.88",
         "392625.0",
         "86.5",
         "87.3",
         "86.27"
        ],
        [
         "39",
         "09/02/2022",
         "86.87",
         "256223.0",
         "86.56",
         "89.66",
         "86.35"
        ],
        [
         "40",
         "09/01/2022",
         "86.61",
         "287536.0",
         "88.83",
         "89.63",
         "85.98"
        ],
        [
         "41",
         "08/31/2022",
         "89.55",
         "327567.0",
         "92.31",
         "91.15",
         "88.71"
        ],
        [
         "42",
         "08/30/2022",
         "91.64",
         "369652.0",
         "96.9",
         "93.51",
         "90.54"
        ],
        [
         "43",
         "08/29/2022",
         "97.01",
         "269210.0",
         "92.96",
         "97.37",
         "92.29"
        ],
        [
         "44",
         "08/26/2022",
         "93.06",
         "271721.0",
         "93.06",
         "94.02",
         "91.08"
        ],
        [
         "45",
         "08/25/2022",
         "92.52",
         "267455.0",
         "95.35",
         "95.76",
         "92.29"
        ],
        [
         "46",
         "08/24/2022",
         "94.89",
         "309259.0",
         "93.78",
         "95.4",
         "92.79"
        ],
        [
         "47",
         "08/23/2022",
         "93.74",
         "272323.0",
         "90.55",
         "94.22",
         "90.42"
        ],
        [
         "48",
         "08/22/2022",
         "90.23",
         "13712.0",
         "89.65",
         "91.26",
         "86.6"
        ],
        [
         "49",
         "08/19/2022",
         "90.77",
         "34249.0",
         "90.39",
         "92.09",
         "88.38"
        ]
       ],
       "shape": {
        "columns": 6,
        "rows": 2548
       }
      },
      "text/html": [
       "<div>\n",
       "<style scoped>\n",
       "    .dataframe tbody tr th:only-of-type {\n",
       "        vertical-align: middle;\n",
       "    }\n",
       "\n",
       "    .dataframe tbody tr th {\n",
       "        vertical-align: top;\n",
       "    }\n",
       "\n",
       "    .dataframe thead th {\n",
       "        text-align: right;\n",
       "    }\n",
       "</style>\n",
       "<table border=\"1\" class=\"dataframe\">\n",
       "  <thead>\n",
       "    <tr style=\"text-align: right;\">\n",
       "      <th></th>\n",
       "      <th>Date</th>\n",
       "      <th>Close/Last</th>\n",
       "      <th>Volume</th>\n",
       "      <th>Open</th>\n",
       "      <th>High</th>\n",
       "      <th>Low</th>\n",
       "    </tr>\n",
       "  </thead>\n",
       "  <tbody>\n",
       "    <tr>\n",
       "      <th>0</th>\n",
       "      <td>10/28/2022</td>\n",
       "      <td>87.90</td>\n",
       "      <td>241417.0</td>\n",
       "      <td>88.67</td>\n",
       "      <td>88.76</td>\n",
       "      <td>87.08</td>\n",
       "    </tr>\n",
       "    <tr>\n",
       "      <th>1</th>\n",
       "      <td>10/27/2022</td>\n",
       "      <td>88.26</td>\n",
       "      <td>273717.0</td>\n",
       "      <td>88.26</td>\n",
       "      <td>89.79</td>\n",
       "      <td>87.33</td>\n",
       "    </tr>\n",
       "    <tr>\n",
       "      <th>2</th>\n",
       "      <td>10/26/2022</td>\n",
       "      <td>87.91</td>\n",
       "      <td>271474.0</td>\n",
       "      <td>85.07</td>\n",
       "      <td>88.41</td>\n",
       "      <td>84.14</td>\n",
       "    </tr>\n",
       "    <tr>\n",
       "      <th>3</th>\n",
       "      <td>10/25/2022</td>\n",
       "      <td>85.32</td>\n",
       "      <td>226337.0</td>\n",
       "      <td>84.88</td>\n",
       "      <td>86.03</td>\n",
       "      <td>83.06</td>\n",
       "    </tr>\n",
       "    <tr>\n",
       "      <th>4</th>\n",
       "      <td>10/24/2022</td>\n",
       "      <td>84.58</td>\n",
       "      <td>238458.0</td>\n",
       "      <td>85.24</td>\n",
       "      <td>85.92</td>\n",
       "      <td>82.63</td>\n",
       "    </tr>\n",
       "    <tr>\n",
       "      <th>...</th>\n",
       "      <td>...</td>\n",
       "      <td>...</td>\n",
       "      <td>...</td>\n",
       "      <td>...</td>\n",
       "      <td>...</td>\n",
       "      <td>...</td>\n",
       "    </tr>\n",
       "    <tr>\n",
       "      <th>2543</th>\n",
       "      <td>11/05/2012</td>\n",
       "      <td>85.65</td>\n",
       "      <td>185846.0</td>\n",
       "      <td>84.65</td>\n",
       "      <td>85.90</td>\n",
       "      <td>84.34</td>\n",
       "    </tr>\n",
       "    <tr>\n",
       "      <th>2544</th>\n",
       "      <td>11/02/2012</td>\n",
       "      <td>84.86</td>\n",
       "      <td>273619.0</td>\n",
       "      <td>86.91</td>\n",
       "      <td>87.24</td>\n",
       "      <td>84.66</td>\n",
       "    </tr>\n",
       "    <tr>\n",
       "      <th>2545</th>\n",
       "      <td>11/01/2012</td>\n",
       "      <td>87.09</td>\n",
       "      <td>185097.0</td>\n",
       "      <td>86.10</td>\n",
       "      <td>87.42</td>\n",
       "      <td>85.92</td>\n",
       "    </tr>\n",
       "    <tr>\n",
       "      <th>2546</th>\n",
       "      <td>10/31/2012</td>\n",
       "      <td>86.24</td>\n",
       "      <td>192354.0</td>\n",
       "      <td>85.73</td>\n",
       "      <td>87.19</td>\n",
       "      <td>85.61</td>\n",
       "    </tr>\n",
       "    <tr>\n",
       "      <th>2547</th>\n",
       "      <td>10/30/2012</td>\n",
       "      <td>85.68</td>\n",
       "      <td>NaN</td>\n",
       "      <td>85.68</td>\n",
       "      <td>85.68</td>\n",
       "      <td>85.68</td>\n",
       "    </tr>\n",
       "  </tbody>\n",
       "</table>\n",
       "<p>2548 rows × 6 columns</p>\n",
       "</div>"
      ],
      "text/plain": [
       "            Date  Close/Last    Volume   Open   High    Low\n",
       "0     10/28/2022       87.90  241417.0  88.67  88.76  87.08\n",
       "1     10/27/2022       88.26  273717.0  88.26  89.79  87.33\n",
       "2     10/26/2022       87.91  271474.0  85.07  88.41  84.14\n",
       "3     10/25/2022       85.32  226337.0  84.88  86.03  83.06\n",
       "4     10/24/2022       84.58  238458.0  85.24  85.92  82.63\n",
       "...          ...         ...       ...    ...    ...    ...\n",
       "2543  11/05/2012       85.65  185846.0  84.65  85.90  84.34\n",
       "2544  11/02/2012       84.86  273619.0  86.91  87.24  84.66\n",
       "2545  11/01/2012       87.09  185097.0  86.10  87.42  85.92\n",
       "2546  10/31/2012       86.24  192354.0  85.73  87.19  85.61\n",
       "2547  10/30/2012       85.68       NaN  85.68  85.68  85.68\n",
       "\n",
       "[2548 rows x 6 columns]"
      ]
     },
     "execution_count": 2,
     "metadata": {},
     "output_type": "execute_result"
    }
   ],
   "source": [
    "#Loading the dataset\n",
    "df = pd.read_csv('Crude oil.csv')\n",
    "df"
   ]
  },
  {
   "cell_type": "code",
   "execution_count": 3,
   "id": "cc135bab",
   "metadata": {},
   "outputs": [
    {
     "data": {
      "text/plain": [
       "Index(['Date', 'Close/Last', 'Volume', 'Open', 'High', 'Low'], dtype='object')"
      ]
     },
     "execution_count": 3,
     "metadata": {},
     "output_type": "execute_result"
    }
   ],
   "source": [
    "#Printing the column name after removing spaces\n",
    "df.columns"
   ]
  },
  {
   "cell_type": "code",
   "execution_count": 4,
   "id": "56075c0c",
   "metadata": {},
   "outputs": [
    {
     "data": {
      "text/plain": [
       "(2548, 6)"
      ]
     },
     "execution_count": 4,
     "metadata": {},
     "output_type": "execute_result"
    }
   ],
   "source": [
    "# Displaying the shape of the DataFrame\n",
    "df.shape"
   ]
  },
  {
   "cell_type": "code",
   "execution_count": 5,
   "id": "c89f26e7",
   "metadata": {},
   "outputs": [
    {
     "data": {
      "application/vnd.microsoft.datawrangler.viewer.v0+json": {
       "columns": [
        {
         "name": "index",
         "rawType": "int64",
         "type": "integer"
        },
        {
         "name": "Date",
         "rawType": "object",
         "type": "string"
        },
        {
         "name": "Close/Last",
         "rawType": "float64",
         "type": "float"
        },
        {
         "name": "Volume",
         "rawType": "float64",
         "type": "float"
        },
        {
         "name": "Open",
         "rawType": "float64",
         "type": "float"
        },
        {
         "name": "High",
         "rawType": "float64",
         "type": "float"
        },
        {
         "name": "Low",
         "rawType": "float64",
         "type": "float"
        }
       ],
       "ref": "434c1b97-d7e8-4af8-ac64-b4560e17c63d",
       "rows": [
        [
         "0",
         "10/28/2022",
         "87.9",
         "241417.0",
         "88.67",
         "88.76",
         "87.08"
        ],
        [
         "1",
         "10/27/2022",
         "88.26",
         "273717.0",
         "88.26",
         "89.79",
         "87.33"
        ],
        [
         "2",
         "10/26/2022",
         "87.91",
         "271474.0",
         "85.07",
         "88.41",
         "84.14"
        ],
        [
         "3",
         "10/25/2022",
         "85.32",
         "226337.0",
         "84.88",
         "86.03",
         "83.06"
        ],
        [
         "4",
         "10/24/2022",
         "84.58",
         "238458.0",
         "85.24",
         "85.92",
         "82.63"
        ]
       ],
       "shape": {
        "columns": 6,
        "rows": 5
       }
      },
      "text/html": [
       "<div>\n",
       "<style scoped>\n",
       "    .dataframe tbody tr th:only-of-type {\n",
       "        vertical-align: middle;\n",
       "    }\n",
       "\n",
       "    .dataframe tbody tr th {\n",
       "        vertical-align: top;\n",
       "    }\n",
       "\n",
       "    .dataframe thead th {\n",
       "        text-align: right;\n",
       "    }\n",
       "</style>\n",
       "<table border=\"1\" class=\"dataframe\">\n",
       "  <thead>\n",
       "    <tr style=\"text-align: right;\">\n",
       "      <th></th>\n",
       "      <th>Date</th>\n",
       "      <th>Close/Last</th>\n",
       "      <th>Volume</th>\n",
       "      <th>Open</th>\n",
       "      <th>High</th>\n",
       "      <th>Low</th>\n",
       "    </tr>\n",
       "  </thead>\n",
       "  <tbody>\n",
       "    <tr>\n",
       "      <th>0</th>\n",
       "      <td>10/28/2022</td>\n",
       "      <td>87.90</td>\n",
       "      <td>241417.0</td>\n",
       "      <td>88.67</td>\n",
       "      <td>88.76</td>\n",
       "      <td>87.08</td>\n",
       "    </tr>\n",
       "    <tr>\n",
       "      <th>1</th>\n",
       "      <td>10/27/2022</td>\n",
       "      <td>88.26</td>\n",
       "      <td>273717.0</td>\n",
       "      <td>88.26</td>\n",
       "      <td>89.79</td>\n",
       "      <td>87.33</td>\n",
       "    </tr>\n",
       "    <tr>\n",
       "      <th>2</th>\n",
       "      <td>10/26/2022</td>\n",
       "      <td>87.91</td>\n",
       "      <td>271474.0</td>\n",
       "      <td>85.07</td>\n",
       "      <td>88.41</td>\n",
       "      <td>84.14</td>\n",
       "    </tr>\n",
       "    <tr>\n",
       "      <th>3</th>\n",
       "      <td>10/25/2022</td>\n",
       "      <td>85.32</td>\n",
       "      <td>226337.0</td>\n",
       "      <td>84.88</td>\n",
       "      <td>86.03</td>\n",
       "      <td>83.06</td>\n",
       "    </tr>\n",
       "    <tr>\n",
       "      <th>4</th>\n",
       "      <td>10/24/2022</td>\n",
       "      <td>84.58</td>\n",
       "      <td>238458.0</td>\n",
       "      <td>85.24</td>\n",
       "      <td>85.92</td>\n",
       "      <td>82.63</td>\n",
       "    </tr>\n",
       "  </tbody>\n",
       "</table>\n",
       "</div>"
      ],
      "text/plain": [
       "         Date  Close/Last    Volume   Open   High    Low\n",
       "0  10/28/2022       87.90  241417.0  88.67  88.76  87.08\n",
       "1  10/27/2022       88.26  273717.0  88.26  89.79  87.33\n",
       "2  10/26/2022       87.91  271474.0  85.07  88.41  84.14\n",
       "3  10/25/2022       85.32  226337.0  84.88  86.03  83.06\n",
       "4  10/24/2022       84.58  238458.0  85.24  85.92  82.63"
      ]
     },
     "execution_count": 5,
     "metadata": {},
     "output_type": "execute_result"
    }
   ],
   "source": [
    "# Printing the first 5 rows of the DataFrame\n",
    "df.head()"
   ]
  },
  {
   "cell_type": "code",
   "execution_count": 6,
   "id": "3f6ab5b6",
   "metadata": {},
   "outputs": [
    {
     "data": {
      "application/vnd.microsoft.datawrangler.viewer.v0+json": {
       "columns": [
        {
         "name": "index",
         "rawType": "int64",
         "type": "integer"
        },
        {
         "name": "Date",
         "rawType": "object",
         "type": "string"
        },
        {
         "name": "Close/Last",
         "rawType": "float64",
         "type": "float"
        },
        {
         "name": "Volume",
         "rawType": "float64",
         "type": "float"
        },
        {
         "name": "Open",
         "rawType": "float64",
         "type": "float"
        },
        {
         "name": "High",
         "rawType": "float64",
         "type": "float"
        },
        {
         "name": "Low",
         "rawType": "float64",
         "type": "float"
        }
       ],
       "ref": "a0fc0a10-fb84-42d4-bf97-77eea7c5f3de",
       "rows": [
        [
         "2543",
         "11/05/2012",
         "85.65",
         "185846.0",
         "84.65",
         "85.9",
         "84.34"
        ],
        [
         "2544",
         "11/02/2012",
         "84.86",
         "273619.0",
         "86.91",
         "87.24",
         "84.66"
        ],
        [
         "2545",
         "11/01/2012",
         "87.09",
         "185097.0",
         "86.1",
         "87.42",
         "85.92"
        ],
        [
         "2546",
         "10/31/2012",
         "86.24",
         "192354.0",
         "85.73",
         "87.19",
         "85.61"
        ],
        [
         "2547",
         "10/30/2012",
         "85.68",
         null,
         "85.68",
         "85.68",
         "85.68"
        ]
       ],
       "shape": {
        "columns": 6,
        "rows": 5
       }
      },
      "text/html": [
       "<div>\n",
       "<style scoped>\n",
       "    .dataframe tbody tr th:only-of-type {\n",
       "        vertical-align: middle;\n",
       "    }\n",
       "\n",
       "    .dataframe tbody tr th {\n",
       "        vertical-align: top;\n",
       "    }\n",
       "\n",
       "    .dataframe thead th {\n",
       "        text-align: right;\n",
       "    }\n",
       "</style>\n",
       "<table border=\"1\" class=\"dataframe\">\n",
       "  <thead>\n",
       "    <tr style=\"text-align: right;\">\n",
       "      <th></th>\n",
       "      <th>Date</th>\n",
       "      <th>Close/Last</th>\n",
       "      <th>Volume</th>\n",
       "      <th>Open</th>\n",
       "      <th>High</th>\n",
       "      <th>Low</th>\n",
       "    </tr>\n",
       "  </thead>\n",
       "  <tbody>\n",
       "    <tr>\n",
       "      <th>2543</th>\n",
       "      <td>11/05/2012</td>\n",
       "      <td>85.65</td>\n",
       "      <td>185846.0</td>\n",
       "      <td>84.65</td>\n",
       "      <td>85.90</td>\n",
       "      <td>84.34</td>\n",
       "    </tr>\n",
       "    <tr>\n",
       "      <th>2544</th>\n",
       "      <td>11/02/2012</td>\n",
       "      <td>84.86</td>\n",
       "      <td>273619.0</td>\n",
       "      <td>86.91</td>\n",
       "      <td>87.24</td>\n",
       "      <td>84.66</td>\n",
       "    </tr>\n",
       "    <tr>\n",
       "      <th>2545</th>\n",
       "      <td>11/01/2012</td>\n",
       "      <td>87.09</td>\n",
       "      <td>185097.0</td>\n",
       "      <td>86.10</td>\n",
       "      <td>87.42</td>\n",
       "      <td>85.92</td>\n",
       "    </tr>\n",
       "    <tr>\n",
       "      <th>2546</th>\n",
       "      <td>10/31/2012</td>\n",
       "      <td>86.24</td>\n",
       "      <td>192354.0</td>\n",
       "      <td>85.73</td>\n",
       "      <td>87.19</td>\n",
       "      <td>85.61</td>\n",
       "    </tr>\n",
       "    <tr>\n",
       "      <th>2547</th>\n",
       "      <td>10/30/2012</td>\n",
       "      <td>85.68</td>\n",
       "      <td>NaN</td>\n",
       "      <td>85.68</td>\n",
       "      <td>85.68</td>\n",
       "      <td>85.68</td>\n",
       "    </tr>\n",
       "  </tbody>\n",
       "</table>\n",
       "</div>"
      ],
      "text/plain": [
       "            Date  Close/Last    Volume   Open   High    Low\n",
       "2543  11/05/2012       85.65  185846.0  84.65  85.90  84.34\n",
       "2544  11/02/2012       84.86  273619.0  86.91  87.24  84.66\n",
       "2545  11/01/2012       87.09  185097.0  86.10  87.42  85.92\n",
       "2546  10/31/2012       86.24  192354.0  85.73  87.19  85.61\n",
       "2547  10/30/2012       85.68       NaN  85.68  85.68  85.68"
      ]
     },
     "execution_count": 6,
     "metadata": {},
     "output_type": "execute_result"
    }
   ],
   "source": [
    "# Printing the last 5 rows of the DataFrame\n",
    "df.tail()"
   ]
  },
  {
   "cell_type": "code",
   "execution_count": 7,
   "id": "5d942459",
   "metadata": {},
   "outputs": [
    {
     "name": "stdout",
     "output_type": "stream",
     "text": [
      "<class 'pandas.core.frame.DataFrame'>\n",
      "RangeIndex: 2548 entries, 0 to 2547\n",
      "Data columns (total 6 columns):\n",
      " #   Column      Non-Null Count  Dtype  \n",
      "---  ------      --------------  -----  \n",
      " 0   Date        2548 non-null   object \n",
      " 1   Close/Last  2548 non-null   float64\n",
      " 2   Volume      2517 non-null   float64\n",
      " 3   Open        2548 non-null   float64\n",
      " 4   High        2548 non-null   float64\n",
      " 5   Low         2548 non-null   float64\n",
      "dtypes: float64(5), object(1)\n",
      "memory usage: 119.6+ KB\n"
     ]
    }
   ],
   "source": [
    "# Printing the information about the DataFrame\n",
    "df.info()"
   ]
  },
  {
   "cell_type": "code",
   "execution_count": 8,
   "id": "996be04c",
   "metadata": {},
   "outputs": [
    {
     "data": {
      "application/vnd.microsoft.datawrangler.viewer.v0+json": {
       "columns": [
        {
         "name": "index",
         "rawType": "object",
         "type": "string"
        },
        {
         "name": "0",
         "rawType": "object",
         "type": "unknown"
        }
       ],
       "ref": "62e372d2-87da-40ea-a624-4e0fa6d60e2f",
       "rows": [
        [
         "Date",
         "object"
        ],
        [
         "Close/Last",
         "float64"
        ],
        [
         "Volume",
         "float64"
        ],
        [
         "Open",
         "float64"
        ],
        [
         "High",
         "float64"
        ],
        [
         "Low",
         "float64"
        ]
       ],
       "shape": {
        "columns": 1,
        "rows": 6
       }
      },
      "text/plain": [
       "Date           object\n",
       "Close/Last    float64\n",
       "Volume        float64\n",
       "Open          float64\n",
       "High          float64\n",
       "Low           float64\n",
       "dtype: object"
      ]
     },
     "execution_count": 8,
     "metadata": {},
     "output_type": "execute_result"
    }
   ],
   "source": [
    "# To check the data types of the columns\n",
    "df.dtypes"
   ]
  },
  {
   "cell_type": "code",
   "execution_count": 9,
   "id": "ba0ae472",
   "metadata": {},
   "outputs": [
    {
     "data": {
      "application/vnd.microsoft.datawrangler.viewer.v0+json": {
       "columns": [
        {
         "name": "index",
         "rawType": "object",
         "type": "string"
        },
        {
         "name": "Close/Last",
         "rawType": "float64",
         "type": "float"
        },
        {
         "name": "Volume",
         "rawType": "float64",
         "type": "float"
        },
        {
         "name": "Open",
         "rawType": "float64",
         "type": "float"
        },
        {
         "name": "High",
         "rawType": "float64",
         "type": "float"
        },
        {
         "name": "Low",
         "rawType": "float64",
         "type": "float"
        }
       ],
       "ref": "34d5ea9a-67da-426c-917a-08229ce75bc6",
       "rows": [
        [
         "count",
         "2548.0",
         "2517.0",
         "2548.0",
         "2548.0",
         "2548.0"
        ],
        [
         "mean",
         "66.04374018838305",
         "395471.7326181963",
         "66.0425",
         "66.95983908948195",
         "65.0650431711146"
        ],
        [
         "std",
         "22.732092906758012",
         "234538.48744048225",
         "22.710749070671387",
         "22.820487447974962",
         "22.565127130697036"
        ],
        [
         "min",
         "-37.63",
         "153.0",
         "-37.25",
         "-35.2",
         "-40.32"
        ],
        [
         "25%",
         "48.62",
         "224477.0",
         "48.665",
         "49.3175",
         "47.8"
        ],
        [
         "50%",
         "59.72",
         "363816.0",
         "59.769999999999996",
         "60.545",
         "58.85"
        ],
        [
         "75%",
         "87.4675",
         "558150.0",
         "87.45",
         "88.695",
         "86.3425"
        ],
        [
         "max",
         "123.7",
         "1693652.0",
         "124.58",
         "129.44",
         "120.79"
        ]
       ],
       "shape": {
        "columns": 5,
        "rows": 8
       }
      },
      "text/html": [
       "<div>\n",
       "<style scoped>\n",
       "    .dataframe tbody tr th:only-of-type {\n",
       "        vertical-align: middle;\n",
       "    }\n",
       "\n",
       "    .dataframe tbody tr th {\n",
       "        vertical-align: top;\n",
       "    }\n",
       "\n",
       "    .dataframe thead th {\n",
       "        text-align: right;\n",
       "    }\n",
       "</style>\n",
       "<table border=\"1\" class=\"dataframe\">\n",
       "  <thead>\n",
       "    <tr style=\"text-align: right;\">\n",
       "      <th></th>\n",
       "      <th>Close/Last</th>\n",
       "      <th>Volume</th>\n",
       "      <th>Open</th>\n",
       "      <th>High</th>\n",
       "      <th>Low</th>\n",
       "    </tr>\n",
       "  </thead>\n",
       "  <tbody>\n",
       "    <tr>\n",
       "      <th>count</th>\n",
       "      <td>2548.000000</td>\n",
       "      <td>2.517000e+03</td>\n",
       "      <td>2548.000000</td>\n",
       "      <td>2548.000000</td>\n",
       "      <td>2548.000000</td>\n",
       "    </tr>\n",
       "    <tr>\n",
       "      <th>mean</th>\n",
       "      <td>66.043740</td>\n",
       "      <td>3.954717e+05</td>\n",
       "      <td>66.042500</td>\n",
       "      <td>66.959839</td>\n",
       "      <td>65.065043</td>\n",
       "    </tr>\n",
       "    <tr>\n",
       "      <th>std</th>\n",
       "      <td>22.732093</td>\n",
       "      <td>2.345385e+05</td>\n",
       "      <td>22.710749</td>\n",
       "      <td>22.820487</td>\n",
       "      <td>22.565127</td>\n",
       "    </tr>\n",
       "    <tr>\n",
       "      <th>min</th>\n",
       "      <td>-37.630000</td>\n",
       "      <td>1.530000e+02</td>\n",
       "      <td>-37.250000</td>\n",
       "      <td>-35.200000</td>\n",
       "      <td>-40.320000</td>\n",
       "    </tr>\n",
       "    <tr>\n",
       "      <th>25%</th>\n",
       "      <td>48.620000</td>\n",
       "      <td>2.244770e+05</td>\n",
       "      <td>48.665000</td>\n",
       "      <td>49.317500</td>\n",
       "      <td>47.800000</td>\n",
       "    </tr>\n",
       "    <tr>\n",
       "      <th>50%</th>\n",
       "      <td>59.720000</td>\n",
       "      <td>3.638160e+05</td>\n",
       "      <td>59.770000</td>\n",
       "      <td>60.545000</td>\n",
       "      <td>58.850000</td>\n",
       "    </tr>\n",
       "    <tr>\n",
       "      <th>75%</th>\n",
       "      <td>87.467500</td>\n",
       "      <td>5.581500e+05</td>\n",
       "      <td>87.450000</td>\n",
       "      <td>88.695000</td>\n",
       "      <td>86.342500</td>\n",
       "    </tr>\n",
       "    <tr>\n",
       "      <th>max</th>\n",
       "      <td>123.700000</td>\n",
       "      <td>1.693652e+06</td>\n",
       "      <td>124.580000</td>\n",
       "      <td>129.440000</td>\n",
       "      <td>120.790000</td>\n",
       "    </tr>\n",
       "  </tbody>\n",
       "</table>\n",
       "</div>"
      ],
      "text/plain": [
       "        Close/Last        Volume         Open         High          Low\n",
       "count  2548.000000  2.517000e+03  2548.000000  2548.000000  2548.000000\n",
       "mean     66.043740  3.954717e+05    66.042500    66.959839    65.065043\n",
       "std      22.732093  2.345385e+05    22.710749    22.820487    22.565127\n",
       "min     -37.630000  1.530000e+02   -37.250000   -35.200000   -40.320000\n",
       "25%      48.620000  2.244770e+05    48.665000    49.317500    47.800000\n",
       "50%      59.720000  3.638160e+05    59.770000    60.545000    58.850000\n",
       "75%      87.467500  5.581500e+05    87.450000    88.695000    86.342500\n",
       "max     123.700000  1.693652e+06   124.580000   129.440000   120.790000"
      ]
     },
     "execution_count": 9,
     "metadata": {},
     "output_type": "execute_result"
    }
   ],
   "source": [
    "# Performing basic statistical analysis of the dataset\n",
    "df.describe()"
   ]
  },
  {
   "cell_type": "code",
   "execution_count": 10,
   "id": "c94c5929",
   "metadata": {},
   "outputs": [
    {
     "data": {
      "application/vnd.microsoft.datawrangler.viewer.v0+json": {
       "columns": [
        {
         "name": "index",
         "rawType": "object",
         "type": "string"
        },
        {
         "name": "0",
         "rawType": "int64",
         "type": "integer"
        }
       ],
       "ref": "b4c18a3d-7270-42c5-8c1f-4a42a95a3c20",
       "rows": [
        [
         "Date",
         "0"
        ],
        [
         "Close/Last",
         "0"
        ],
        [
         "Volume",
         "31"
        ],
        [
         "Open",
         "0"
        ],
        [
         "High",
         "0"
        ],
        [
         "Low",
         "0"
        ]
       ],
       "shape": {
        "columns": 1,
        "rows": 6
       }
      },
      "text/plain": [
       "Date           0\n",
       "Close/Last     0\n",
       "Volume        31\n",
       "Open           0\n",
       "High           0\n",
       "Low            0\n",
       "dtype: int64"
      ]
     },
     "execution_count": 10,
     "metadata": {},
     "output_type": "execute_result"
    }
   ],
   "source": [
    "# Checking for missing values in the dataset\n",
    "df.isnull().sum()"
   ]
  },
  {
   "cell_type": "code",
   "execution_count": 11,
   "id": "91551a6f",
   "metadata": {},
   "outputs": [
    {
     "data": {
      "text/plain": [
       "np.int64(31)"
      ]
     },
     "execution_count": 11,
     "metadata": {},
     "output_type": "execute_result"
    }
   ],
   "source": [
    "# Checking for missing values in volumne column\n",
    "df['Volume'].isnull().sum()"
   ]
  },
  {
   "cell_type": "code",
   "execution_count": 12,
   "id": "8d34abf2",
   "metadata": {},
   "outputs": [
    {
     "name": "stderr",
     "output_type": "stream",
     "text": [
      "C:\\Users\\Ashhar\\AppData\\Local\\Temp\\ipykernel_14112\\168319847.py:2: FutureWarning: A value is trying to be set on a copy of a DataFrame or Series through chained assignment using an inplace method.\n",
      "The behavior will change in pandas 3.0. This inplace method will never work because the intermediate object on which we are setting values always behaves as a copy.\n",
      "\n",
      "For example, when doing 'df[col].method(value, inplace=True)', try using 'df.method({col: value}, inplace=True)' or df[col] = df[col].method(value) instead, to perform the operation inplace on the original object.\n",
      "\n",
      "\n",
      "  df['Volume'].fillna(df['Volume'].mean(),inplace=True)\n"
     ]
    }
   ],
   "source": [
    "# Filling missing values in volume column with mean value\n",
    "df['Volume'].fillna(df['Volume'].mean(),inplace=True)"
   ]
  },
  {
   "cell_type": "code",
   "execution_count": 13,
   "id": "5a6ac838",
   "metadata": {},
   "outputs": [
    {
     "data": {
      "application/vnd.microsoft.datawrangler.viewer.v0+json": {
       "columns": [
        {
         "name": "index",
         "rawType": "object",
         "type": "string"
        },
        {
         "name": "0",
         "rawType": "int64",
         "type": "integer"
        }
       ],
       "ref": "2b8409e5-b46e-44f2-b880-9afa21c7f892",
       "rows": [
        [
         "Date",
         "0"
        ],
        [
         "Close/Last",
         "0"
        ],
        [
         "Volume",
         "0"
        ],
        [
         "Open",
         "0"
        ],
        [
         "High",
         "0"
        ],
        [
         "Low",
         "0"
        ]
       ],
       "shape": {
        "columns": 1,
        "rows": 6
       }
      },
      "text/plain": [
       "Date          0\n",
       "Close/Last    0\n",
       "Volume        0\n",
       "Open          0\n",
       "High          0\n",
       "Low           0\n",
       "dtype: int64"
      ]
     },
     "execution_count": 13,
     "metadata": {},
     "output_type": "execute_result"
    }
   ],
   "source": [
    "# Final check for missing values\n",
    "df.isnull().sum()"
   ]
  },
  {
   "cell_type": "code",
   "execution_count": 14,
   "id": "b9f26734",
   "metadata": {},
   "outputs": [
    {
     "data": {
      "text/plain": [
       "np.int64(0)"
      ]
     },
     "execution_count": 14,
     "metadata": {},
     "output_type": "execute_result"
    }
   ],
   "source": [
    "# Checking for duplicates in the dataset \n",
    "df.duplicated().sum()"
   ]
  },
  {
   "cell_type": "markdown",
   "id": "11f6b4e8",
   "metadata": {},
   "source": [
    "# Exploratory Data Analysis and Data Visualization"
   ]
  },
  {
   "cell_type": "code",
   "execution_count": 15,
   "id": "a2f30a0e",
   "metadata": {},
   "outputs": [
    {
     "data": {
      "image/png": "[encoded data removed]",
      "text/plain": [
       "<Figure size 1200x600 with 1 Axes>"
      ]
     },
     "metadata": {},
     "output_type": "display_data"
    }
   ],
   "source": [
    "# Time Series Plot of Oil Prices\n",
    "plt.figure(figsize=(12,6))\n",
    "plt.plot(pd.to_datetime(df['Date']), df['Close/Last'], label='Close/Last Price')\n",
    "plt.title('Oil Prices Over Time')\n",
    "plt.xlabel('Date')\n",
    "plt.ylabel('Price')\n",
    "plt.legend()\n",
    "plt.show()"
   ]
  },
  {
   "cell_type": "code",
   "execution_count": 16,
   "id": "af25c49f",
   "metadata": {},
   "outputs": [
    {
     "data": {
      "image/png": "[encoded data removed]",
      "text/plain": [
       "<Figure size 1000x500 with 1 Axes>"
      ]
     },
     "metadata": {},
     "output_type": "display_data"
    }
   ],
   "source": [
    "# Volume Distribution Plot\n",
    "plt.figure(figsize=(10,5))\n",
    "sns.histplot(df['Volume'], bins=50, kde=True, color='blue')\n",
    "plt.title('Distribution of Trading Volume')\n",
    "plt.xlabel('Volume')\n",
    "plt.ylabel('Frequency')\n",
    "plt.show()"
   ]
  },
  {
   "cell_type": "code",
   "execution_count": 17,
   "id": "c10fd805",
   "metadata": {},
   "outputs": [
    {
     "data": {
      "image/png": "[encoded data removed]",
      "text/plain": [
       "<Figure size 800x600 with 2 Axes>"
      ]
     },
     "metadata": {},
     "output_type": "display_data"
    }
   ],
   "source": [
    "# Correlation Heatmap of Numerical Features \n",
    "plt.figure(figsize=(8,6))\n",
    "sns.heatmap(df[['Close/Last', 'Volume', 'Open', 'High', 'Low']].corr(), annot=True, cmap='Pastel1', fmt=\".2f\")\n",
    "plt.title('Correlation Matrix of Oil Price Features')\n",
    "plt.show()"
   ]
  },
  {
   "cell_type": "code",
   "execution_count": 18,
   "id": "abde5288",
   "metadata": {},
   "outputs": [
    {
     "data": {
      "image/png": "[encoded data removed]",
      "text/plain": [
       "<Figure size 1000x500 with 1 Axes>"
      ]
     },
     "metadata": {},
     "output_type": "display_data"
    }
   ],
   "source": [
    "# Outlier Detection: Boxplot for 'Close/Last' Prices \n",
    "plt.figure(figsize=(10,5))\n",
    "sns.boxplot(x=df['Close/Last'], color='lightgreen')\n",
    "plt.title('Boxplot of Close/Last Prices to Detect Outliers')\n",
    "plt.xlabel('Close/Last Price')  \n",
    "plt.show()"
   ]
  },
  {
   "cell_type": "code",
   "execution_count": 19,
   "id": "82653489",
   "metadata": {},
   "outputs": [
    {
     "data": {
      "image/png": "[encoded data removed]",
      "text/plain": [
       "<Figure size 1200x600 with 1 Axes>"
      ]
     },
     "metadata": {},
     "output_type": "display_data"
    }
   ],
   "source": [
    "# Seasonality: Monthly Average Prices\n",
    "df['Date'] = pd.to_datetime(df['Date'])\n",
    "df['Month'] = df['Date'].dt.to_period('M')\n",
    "monthly_avg = df.groupby('Month')['Close/Last'].mean().reset_index()\n",
    "plt.figure(figsize=(12,6))\n",
    "plt.plot(monthly_avg['Month'].dt.to_timestamp(), monthly_avg['Close/Last'], marker='o', mfc='red')\n",
    "plt.title('Monthly Average Oil Prices')\n",
    "plt.xlabel('Month')\n",
    "plt.ylabel('Average Close/Last Price')  \n",
    "plt.grid()\n",
    "plt.show()"
   ]
  },
  {
   "cell_type": "markdown",
   "id": "5cd094ed",
   "metadata": {},
   "source": [
    "## 1. Brief Overview of Project Progress\n",
    "#### Project Progress Overview:\n",
    "- Data loaded from Crude oil.csv containing daily oil prices and trading volumes.\n",
    "- Initial data cleaning completed: missing values in 'Volume' filled with mean, no remaining nulls.\n",
    "- Data types verified and basic statistics generated.\n",
    "- Ready for deeper exploratory analysis and feature engineering.\n",
    "\n",
    "## 2. Individual Team Updates\n",
    "#### Team Updates:\n",
    "- Data Collection & Cleaning: Dataset loaded and cleaned, handled missing values.\n",
    "- EDA & Visualization: Initial statistics and visualizations underway.\n",
    "- Modeling: Feature selection and model prototyping scheduled.\n",
    "- Reporting: Documentation and presentation structure started.\n",
    "\n",
    "## 3. Insights & Key Findings\n",
    "\n",
    "**1. Data Quality & Structure**\n",
    "\n",
    "- The dataset (Crude oil.csv) contains daily records of oil prices and trading volumes.\n",
    "- Missing values in the Volume column were successfully imputed with the mean, ensuring no nulls remain.\n",
    "- No duplicate rows were found, and data types are appropriate for analysis.\n",
    "\n",
    "**2. Price Trends**\n",
    "\n",
    "- The time series plot shows significant volatility in oil prices, with periods of sharp increases and decreases.\n",
    "- Notable price drops and spikes correspond to global events (e.g., pandemic, geopolitical tensions).\n",
    "\n",
    "**3. Volume Distribution**\n",
    "\n",
    "- Trading volume is right-skewed, with most days having moderate volumes and occasional days with extremely high activity.\n",
    "- High volume days may coincide with major price movements or market events.\n",
    "\n",
    "**4. Feature Relationships**\n",
    "\n",
    "- The correlation heatmap reveals strong positive correlations among Open, High, Low, and Close/Last prices.\n",
    "- Volume has a weak correlation with price features, suggesting it may not directly drive price changes but could indicate market sentiment.\n",
    "\n",
    "**5. Outlier Detection**\n",
    "\n",
    "- Boxplots highlight several outliers in closing prices, including extreme lows and highs.\n",
    "- Outliers may reflect extraordinary market conditions and should be considered in modeling (e.g., robust scaling or exclusion).\n",
    "\n",
    "**6. Seasonality**\n",
    "\n",
    "- Monthly average price plots indicate seasonal patterns, with certain months showing consistent price increases or decreases.\n",
    "- Seasonality should be leveraged for time series modeling and feature engineering.\n",
    "\n",
    "## 4. Challenges Faced and Potential Solutions\n",
    "#### Challenges & Solutions:\n",
    "- Challenge: Missing values in 'Volume' column.\n",
    "  Solution: Imputed with mean value.\n",
    "- Challenge: Outliers (e.g., negative prices on 2020-04-20).\n",
    "  Solution: Will analyze outlier impact and consider robust scaling or exclusion.\n",
    "- Challenge: Non-uniform trading days (holidays/weekends).\n",
    "  Solution: Will resample or interpolate as needed for time series modeling.\n",
    "\n",
    "## 5. Next Steps and Action Items\n",
    "#### Next Steps & Action Items:\n",
    "- Visualize trends, seasonality, and correlations in oil prices.\n",
    "- Engineer features (lagged prices, rolling averages, etc.).\n",
    "- Build and evaluate predictive models (e.g., ARIMA, LSTM).\n",
    "- Prepare final report and presentation."
   ]
  },
  {
   "cell_type": "markdown",
   "id": "fb6ce7da",
   "metadata": {},
   "source": [
    "**Summary**\n",
    "\n",
    "The dataset is clean and ready for advanced analysis.\n",
    "Oil prices are volatile and influenced by external factors.\n",
    "Strong inter-feature correlations exist among price columns.\n",
    "Outliers and seasonality are present and should be addressed in modeling.\n",
    "Next steps include deeper feature engineering, model development, and further investigation of outlier impacts."
   ]
  },
  {
   "cell_type": "markdown",
   "id": "078bc2af",
   "metadata": {},
   "source": [
    "# Model Building"
   ]
  },
  {
   "cell_type": "code",
   "execution_count": 20,
   "id": "129e90b7",
   "metadata": {},
   "outputs": [
    {
     "data": {
      "application/vnd.microsoft.datawrangler.viewer.v0+json": {
       "columns": [
        {
         "name": "index",
         "rawType": "int64",
         "type": "integer"
        },
        {
         "name": "Date",
         "rawType": "datetime64[ns]",
         "type": "datetime"
        },
        {
         "name": "Close/Last",
         "rawType": "float64",
         "type": "float"
        },
        {
         "name": "Volume",
         "rawType": "float64",
         "type": "float"
        },
        {
         "name": "Open",
         "rawType": "float64",
         "type": "float"
        },
        {
         "name": "High",
         "rawType": "float64",
         "type": "float"
        },
        {
         "name": "Low",
         "rawType": "float64",
         "type": "float"
        },
        {
         "name": "Month",
         "rawType": "period[M]",
         "type": "unknown"
        }
       ],
       "ref": "c806949c-4183-42e8-8738-1a083d329a8f",
       "rows": [
        [
         "0",
         "2022-10-28 00:00:00",
         "0.961660242596951",
         "-0.6610058726704473",
         "0.9965299464246797",
         "0.9554765259243124",
         "0.9758100639025282",
         "2022-10"
        ],
        [
         "1",
         "2022-10-27 00:00:00",
         "0.9774999924131978",
         "-0.5224155851512073",
         "0.9784732774142227",
         "1.0006202670985906",
         "0.9868912809983322",
         "2022-10"
        ],
        [
         "2",
         "2022-10-26 00:00:00",
         "0.962100235647402",
         "-0.5320396722999892",
         "0.8379835843816411",
         "0.9401364197000428",
         "0.8454949508558732",
         "2022-10"
        ],
        [
         "3",
         "2022-10-25 00:00:00",
         "0.848142035580515",
         "-0.7257099449859314",
         "0.8296158597182587",
         "0.835823697375012",
         "0.797624093002",
         "2022-10"
        ],
        [
         "4",
         "2022-10-24 00:00:00",
         "0.815582549847119",
         "-0.6737021160379218",
         "0.8454704959225625",
         "0.8310025211330989",
         "0.7785643995972168",
         "2022-10"
        ]
       ],
       "shape": {
        "columns": 7,
        "rows": 5
       }
      },
      "text/html": [
       "<div>\n",
       "<style scoped>\n",
       "    .dataframe tbody tr th:only-of-type {\n",
       "        vertical-align: middle;\n",
       "    }\n",
       "\n",
       "    .dataframe tbody tr th {\n",
       "        vertical-align: top;\n",
       "    }\n",
       "\n",
       "    .dataframe thead th {\n",
       "        text-align: right;\n",
       "    }\n",
       "</style>\n",
       "<table border=\"1\" class=\"dataframe\">\n",
       "  <thead>\n",
       "    <tr style=\"text-align: right;\">\n",
       "      <th></th>\n",
       "      <th>Date</th>\n",
       "      <th>Close/Last</th>\n",
       "      <th>Volume</th>\n",
       "      <th>Open</th>\n",
       "      <th>High</th>\n",
       "      <th>Low</th>\n",
       "      <th>Month</th>\n",
       "    </tr>\n",
       "  </thead>\n",
       "  <tbody>\n",
       "    <tr>\n",
       "      <th>0</th>\n",
       "      <td>2022-10-28</td>\n",
       "      <td>0.961660</td>\n",
       "      <td>-0.661006</td>\n",
       "      <td>0.996530</td>\n",
       "      <td>0.955477</td>\n",
       "      <td>0.975810</td>\n",
       "      <td>2022-10</td>\n",
       "    </tr>\n",
       "    <tr>\n",
       "      <th>1</th>\n",
       "      <td>2022-10-27</td>\n",
       "      <td>0.977500</td>\n",
       "      <td>-0.522416</td>\n",
       "      <td>0.978473</td>\n",
       "      <td>1.000620</td>\n",
       "      <td>0.986891</td>\n",
       "      <td>2022-10</td>\n",
       "    </tr>\n",
       "    <tr>\n",
       "      <th>2</th>\n",
       "      <td>2022-10-26</td>\n",
       "      <td>0.962100</td>\n",
       "      <td>-0.532040</td>\n",
       "      <td>0.837984</td>\n",
       "      <td>0.940136</td>\n",
       "      <td>0.845495</td>\n",
       "      <td>2022-10</td>\n",
       "    </tr>\n",
       "    <tr>\n",
       "      <th>3</th>\n",
       "      <td>2022-10-25</td>\n",
       "      <td>0.848142</td>\n",
       "      <td>-0.725710</td>\n",
       "      <td>0.829616</td>\n",
       "      <td>0.835824</td>\n",
       "      <td>0.797624</td>\n",
       "      <td>2022-10</td>\n",
       "    </tr>\n",
       "    <tr>\n",
       "      <th>4</th>\n",
       "      <td>2022-10-24</td>\n",
       "      <td>0.815583</td>\n",
       "      <td>-0.673702</td>\n",
       "      <td>0.845470</td>\n",
       "      <td>0.831003</td>\n",
       "      <td>0.778564</td>\n",
       "      <td>2022-10</td>\n",
       "    </tr>\n",
       "  </tbody>\n",
       "</table>\n",
       "</div>"
      ],
      "text/plain": [
       "        Date  Close/Last    Volume      Open      High       Low    Month\n",
       "0 2022-10-28    0.961660 -0.661006  0.996530  0.955477  0.975810  2022-10\n",
       "1 2022-10-27    0.977500 -0.522416  0.978473  1.000620  0.986891  2022-10\n",
       "2 2022-10-26    0.962100 -0.532040  0.837984  0.940136  0.845495  2022-10\n",
       "3 2022-10-25    0.848142 -0.725710  0.829616  0.835824  0.797624  2022-10\n",
       "4 2022-10-24    0.815583 -0.673702  0.845470  0.831003  0.778564  2022-10"
      ]
     },
     "execution_count": 20,
     "metadata": {},
     "output_type": "execute_result"
    }
   ],
   "source": [
    "# 1. Standardizing the data\n",
    "from sklearn.preprocessing import StandardScaler\n",
    "\n",
    "# Keep only numeric columns for modeling\n",
    "numeric_cols = df.select_dtypes(include=[np.number]).columns\n",
    "scaler = StandardScaler()\n",
    "df_scaled = df.copy()\n",
    "df_scaled[numeric_cols] = scaler.fit_transform(df[numeric_cols])\n",
    "df_scaled.head()"
   ]
  },
  {
   "cell_type": "code",
   "execution_count": 21,
   "id": "14a3dafd",
   "metadata": {},
   "outputs": [
    {
     "data": {
      "application/vnd.microsoft.datawrangler.viewer.v0+json": {
       "columns": [
        {
         "name": "index",
         "rawType": "int64",
         "type": "integer"
        },
        {
         "name": "Date_float",
         "rawType": "float64",
         "type": "float"
        }
       ],
       "ref": "0f961846-5b64-4f46-a014-e0aed9b0c0b3",
       "rows": [
        [
         "0",
         "1666915200.0"
        ],
        [
         "1",
         "1666828800.0"
        ],
        [
         "2",
         "1666742400.0"
        ],
        [
         "3",
         "1666656000.0"
        ],
        [
         "4",
         "1666569600.0"
        ]
       ],
       "shape": {
        "columns": 1,
        "rows": 5
       }
      },
      "text/plain": [
       "0    1.666915e+09\n",
       "1    1.666829e+09\n",
       "2    1.666742e+09\n",
       "3    1.666656e+09\n",
       "4    1.666570e+09\n",
       "Name: Date_float, dtype: float64"
      ]
     },
     "execution_count": 21,
     "metadata": {},
     "output_type": "execute_result"
    }
   ],
   "source": [
    "# 2. Convert timestamp to float\n",
    "df_scaled['Date_float'] = df_scaled['Date'].astype(np.int64) / 1e9  # seconds since epoch\n",
    "df_scaled['Date_float'].head()"
   ]
  },
  {
   "cell_type": "code",
   "execution_count": 22,
   "id": "cace5c0b",
   "metadata": {},
   "outputs": [
    {
     "name": "stderr",
     "output_type": "stream",
     "text": [
      "c:\\py-3.13.3\\Lib\\site-packages\\pandas\\core\\arraylike.py:399: RuntimeWarning: invalid value encountered in log1p\n",
      "  result = getattr(ufunc, method)(*inputs, **kwargs)\n"
     ]
    },
    {
     "data": {
      "application/vnd.microsoft.datawrangler.viewer.v0+json": {
       "columns": [
        {
         "name": "index",
         "rawType": "int64",
         "type": "integer"
        },
        {
         "name": "Date",
         "rawType": "datetime64[ns]",
         "type": "datetime"
        },
        {
         "name": "Close/Last",
         "rawType": "float64",
         "type": "float"
        },
        {
         "name": "Volume",
         "rawType": "float64",
         "type": "float"
        },
        {
         "name": "Open",
         "rawType": "float64",
         "type": "float"
        },
        {
         "name": "High",
         "rawType": "float64",
         "type": "float"
        },
        {
         "name": "Low",
         "rawType": "float64",
         "type": "float"
        },
        {
         "name": "Month",
         "rawType": "period[M]",
         "type": "unknown"
        },
        {
         "name": "Date_float",
         "rawType": "float64",
         "type": "float"
        },
        {
         "name": "Volume_log",
         "rawType": "float64",
         "type": "float"
        }
       ],
       "ref": "f2fe2843-e6a8-40f1-b646-197fb10d78df",
       "rows": [
        [
         "0",
         "2022-10-28 00:00:00",
         "0.961660242596951",
         "-0.6610058726704473",
         "0.9965299464246797",
         "0.9554765259243124",
         "0.9758100639025282",
         "2022-10",
         "1666915200.0",
         "-1.0817724952633845"
        ],
        [
         "1",
         "2022-10-27 00:00:00",
         "0.9774999924131978",
         "-0.5224155851512073",
         "0.9784732774142227",
         "1.0006202670985906",
         "0.9868912809983322",
         "2022-10",
         "1666828800.0",
         "-0.7390143496623334"
        ],
        [
         "2",
         "2022-10-26 00:00:00",
         "0.962100235647402",
         "-0.5320396722999892",
         "0.8379835843816411",
         "0.9401364197000428",
         "0.8454949508558732",
         "2022-10",
         "1666742400.0",
         "-0.7593717565294307"
        ],
        [
         "3",
         "2022-10-25 00:00:00",
         "0.848142035580515",
         "-0.7257099449859314",
         "0.8296158597182587",
         "0.835823697375012",
         "0.797624093002",
         "2022-10",
         "1666656000.0",
         "-1.2935691375687213"
        ],
        [
         "4",
         "2022-10-24 00:00:00",
         "0.815582549847119",
         "-0.6737021160379218",
         "0.8454704959225625",
         "0.8310025211330989",
         "0.7785643995972168",
         "2022-10",
         "1666569600.0",
         "-1.1199445603500184"
        ]
       ],
       "shape": {
        "columns": 9,
        "rows": 5
       }
      },
      "text/html": [
       "<div>\n",
       "<style scoped>\n",
       "    .dataframe tbody tr th:only-of-type {\n",
       "        vertical-align: middle;\n",
       "    }\n",
       "\n",
       "    .dataframe tbody tr th {\n",
       "        vertical-align: top;\n",
       "    }\n",
       "\n",
       "    .dataframe thead th {\n",
       "        text-align: right;\n",
       "    }\n",
       "</style>\n",
       "<table border=\"1\" class=\"dataframe\">\n",
       "  <thead>\n",
       "    <tr style=\"text-align: right;\">\n",
       "      <th></th>\n",
       "      <th>Date</th>\n",
       "      <th>Close/Last</th>\n",
       "      <th>Volume</th>\n",
       "      <th>Open</th>\n",
       "      <th>High</th>\n",
       "      <th>Low</th>\n",
       "      <th>Month</th>\n",
       "      <th>Date_float</th>\n",
       "      <th>Volume_log</th>\n",
       "    </tr>\n",
       "  </thead>\n",
       "  <tbody>\n",
       "    <tr>\n",
       "      <th>0</th>\n",
       "      <td>2022-10-28</td>\n",
       "      <td>0.961660</td>\n",
       "      <td>-0.661006</td>\n",
       "      <td>0.996530</td>\n",
       "      <td>0.955477</td>\n",
       "      <td>0.975810</td>\n",
       "      <td>2022-10</td>\n",
       "      <td>1.666915e+09</td>\n",
       "      <td>-1.081772</td>\n",
       "    </tr>\n",
       "    <tr>\n",
       "      <th>1</th>\n",
       "      <td>2022-10-27</td>\n",
       "      <td>0.977500</td>\n",
       "      <td>-0.522416</td>\n",
       "      <td>0.978473</td>\n",
       "      <td>1.000620</td>\n",
       "      <td>0.986891</td>\n",
       "      <td>2022-10</td>\n",
       "      <td>1.666829e+09</td>\n",
       "      <td>-0.739014</td>\n",
       "    </tr>\n",
       "    <tr>\n",
       "      <th>2</th>\n",
       "      <td>2022-10-26</td>\n",
       "      <td>0.962100</td>\n",
       "      <td>-0.532040</td>\n",
       "      <td>0.837984</td>\n",
       "      <td>0.940136</td>\n",
       "      <td>0.845495</td>\n",
       "      <td>2022-10</td>\n",
       "      <td>1.666742e+09</td>\n",
       "      <td>-0.759372</td>\n",
       "    </tr>\n",
       "    <tr>\n",
       "      <th>3</th>\n",
       "      <td>2022-10-25</td>\n",
       "      <td>0.848142</td>\n",
       "      <td>-0.725710</td>\n",
       "      <td>0.829616</td>\n",
       "      <td>0.835824</td>\n",
       "      <td>0.797624</td>\n",
       "      <td>2022-10</td>\n",
       "      <td>1.666656e+09</td>\n",
       "      <td>-1.293569</td>\n",
       "    </tr>\n",
       "    <tr>\n",
       "      <th>4</th>\n",
       "      <td>2022-10-24</td>\n",
       "      <td>0.815583</td>\n",
       "      <td>-0.673702</td>\n",
       "      <td>0.845470</td>\n",
       "      <td>0.831003</td>\n",
       "      <td>0.778564</td>\n",
       "      <td>2022-10</td>\n",
       "      <td>1.666570e+09</td>\n",
       "      <td>-1.119945</td>\n",
       "    </tr>\n",
       "  </tbody>\n",
       "</table>\n",
       "</div>"
      ],
      "text/plain": [
       "        Date  Close/Last    Volume      Open      High       Low    Month  \\\n",
       "0 2022-10-28    0.961660 -0.661006  0.996530  0.955477  0.975810  2022-10   \n",
       "1 2022-10-27    0.977500 -0.522416  0.978473  1.000620  0.986891  2022-10   \n",
       "2 2022-10-26    0.962100 -0.532040  0.837984  0.940136  0.845495  2022-10   \n",
       "3 2022-10-25    0.848142 -0.725710  0.829616  0.835824  0.797624  2022-10   \n",
       "4 2022-10-24    0.815583 -0.673702  0.845470  0.831003  0.778564  2022-10   \n",
       "\n",
       "     Date_float  Volume_log  \n",
       "0  1.666915e+09   -1.081772  \n",
       "1  1.666829e+09   -0.739014  \n",
       "2  1.666742e+09   -0.759372  \n",
       "3  1.666656e+09   -1.293569  \n",
       "4  1.666570e+09   -1.119945  "
      ]
     },
     "execution_count": 22,
     "metadata": {},
     "output_type": "execute_result"
    }
   ],
   "source": [
    "# 3. Transforming the data (example: log transform 'Volume' to reduce skewness)\n",
    "df_scaled['Volume_log'] = np.log1p(df_scaled['Volume'])\n",
    "df_scaled.head()"
   ]
  },
  {
   "cell_type": "code",
   "execution_count": 23,
   "id": "a4eaff0e",
   "metadata": {},
   "outputs": [],
   "source": [
    "# 4. Splitting the features into X and y variables\n",
    "feature_cols = ['Date_float', 'Open', 'High', 'Low', 'Volume_log']\n",
    "\n",
    "# Filling NaN values in feature columns with the mean of the respective columns\n",
    "df_scaled[feature_cols] = df_scaled[feature_cols].fillna(df_scaled[feature_cols].mean()) \n",
    "\n",
    "X = df_scaled[feature_cols]\n",
    "y = df_scaled['Close/Last']"
   ]
  },
  {
   "cell_type": "code",
   "execution_count": 24,
   "id": "711240b6",
   "metadata": {},
   "outputs": [],
   "source": [
    "# 5. Train Test split\n",
    "from sklearn.model_selection import train_test_split\n",
    "\n",
    "X_train, X_test, y_train, y_test = train_test_split(X, y, test_size=0.2, shuffle=False)"
   ]
  },
  {
   "cell_type": "code",
   "execution_count": 25,
   "id": "ae9ceb51",
   "metadata": {},
   "outputs": [],
   "source": [
    "# 6. Keep only numeric columns in features (already done above)\n",
    "X_train = X_train.select_dtypes(include=[np.number])\n",
    "X_test = X_test.select_dtypes(include=[np.number])"
   ]
  },
  {
   "cell_type": "markdown",
   "id": "2d54c5fe",
   "metadata": {},
   "source": [
    "# Model building using Linear Regression"
   ]
  },
  {
   "cell_type": "code",
   "execution_count": 26,
   "id": "80e71615",
   "metadata": {},
   "outputs": [
    {
     "name": "stdout",
     "output_type": "stream",
     "text": [
      "Linear Regression CV MSE: 0.0008278133374676078\n",
      "Linear Regression Test Score: 0.9945769311208797\n"
     ]
    }
   ],
   "source": [
    "from sklearn.linear_model import LinearRegression\n",
    "from sklearn.model_selection import cross_val_score\n",
    "\n",
    "lr = LinearRegression()\n",
    "cv_scores = cross_val_score(lr, X_train, y_train, cv=5, scoring='neg_mean_squared_error')\n",
    "print(\"Linear Regression CV MSE:\", -cv_scores.mean())\n",
    "\n",
    "lr.fit(X_train, y_train)\n",
    "print(\"Linear Regression Test Score:\", lr.score(X_test, y_test))"
   ]
  },
  {
   "cell_type": "markdown",
   "id": "cc9bd119",
   "metadata": {},
   "source": [
    "# Model building using Decision Tree"
   ]
  },
  {
   "cell_type": "code",
   "execution_count": 27,
   "id": "6f6f37b6",
   "metadata": {},
   "outputs": [
    {
     "name": "stdout",
     "output_type": "stream",
     "text": [
      "Decision Tree Test Score: 0.895494500015508\n"
     ]
    }
   ],
   "source": [
    "from sklearn.tree import DecisionTreeRegressor\n",
    "\n",
    "dt = DecisionTreeRegressor(random_state=42)\n",
    "dt.fit(X_train, y_train)\n",
    "print(\"Decision Tree Test Score:\", dt.score(X_test, y_test))"
   ]
  },
  {
   "cell_type": "markdown",
   "id": "21a56af1",
   "metadata": {},
   "source": [
    "# Model building using Random Forest Regression"
   ]
  },
  {
   "cell_type": "code",
   "execution_count": 28,
   "id": "2799f817",
   "metadata": {},
   "outputs": [
    {
     "name": "stdout",
     "output_type": "stream",
     "text": [
      "Random Forest Test Score: 0.9709623656941951\n"
     ]
    }
   ],
   "source": [
    "from sklearn.ensemble import RandomForestRegressor\n",
    "\n",
    "rf = RandomForestRegressor(n_estimators=100, random_state=42)\n",
    "rf.fit(X_train, y_train)\n",
    "print(\"Random Forest Test Score:\", rf.score(X_test, y_test))"
   ]
  },
  {
   "cell_type": "markdown",
   "id": "f659d07c",
   "metadata": {},
   "source": [
    "# Model building using ARIMA (on original, unscaled data)"
   ]
  },
  {
   "cell_type": "code",
   "execution_count": 29,
   "id": "29aad0d7",
   "metadata": {},
   "outputs": [
    {
     "name": "stderr",
     "output_type": "stream",
     "text": [
      "c:\\py-3.13.3\\Lib\\site-packages\\statsmodels\\tsa\\base\\tsa_model.py:473: ValueWarning: A date index has been provided, but it has no associated frequency information and so will be ignored when e.g. forecasting.\n",
      "  self._init_dates(dates, freq)\n",
      "c:\\py-3.13.3\\Lib\\site-packages\\statsmodels\\tsa\\base\\tsa_model.py:473: ValueWarning: A date index has been provided, but it is not monotonic and so will be ignored when e.g. forecasting.\n",
      "  self._init_dates(dates, freq)\n",
      "c:\\py-3.13.3\\Lib\\site-packages\\statsmodels\\tsa\\base\\tsa_model.py:473: ValueWarning: A date index has been provided, but it has no associated frequency information and so will be ignored when e.g. forecasting.\n",
      "  self._init_dates(dates, freq)\n",
      "c:\\py-3.13.3\\Lib\\site-packages\\statsmodels\\tsa\\base\\tsa_model.py:473: ValueWarning: A date index has been provided, but it is not monotonic and so will be ignored when e.g. forecasting.\n",
      "  self._init_dates(dates, freq)\n",
      "c:\\py-3.13.3\\Lib\\site-packages\\statsmodels\\tsa\\base\\tsa_model.py:473: ValueWarning: A date index has been provided, but it has no associated frequency information and so will be ignored when e.g. forecasting.\n",
      "  self._init_dates(dates, freq)\n",
      "c:\\py-3.13.3\\Lib\\site-packages\\statsmodels\\tsa\\base\\tsa_model.py:473: ValueWarning: A date index has been provided, but it is not monotonic and so will be ignored when e.g. forecasting.\n",
      "  self._init_dates(dates, freq)\n"
     ]
    },
    {
     "name": "stdout",
     "output_type": "stream",
     "text": [
      "                               SARIMAX Results                                \n",
      "==============================================================================\n",
      "Dep. Variable:             Close/Last   No. Observations:                 2548\n",
      "Model:                 ARIMA(5, 1, 0)   Log Likelihood               -5418.646\n",
      "Date:                Fri, 03 Oct 2025   AIC                          10849.292\n",
      "Time:                        21:34:33   BIC                          10884.348\n",
      "Sample:                             0   HQIC                         10862.007\n",
      "                               - 2548                                         \n",
      "Covariance Type:                  opg                                         \n",
      "==============================================================================\n",
      "                 coef    std err          z      P>|z|      [0.025      0.975]\n",
      "------------------------------------------------------------------------------\n",
      "ar.L1         -0.2460      0.003    -89.112      0.000      -0.251      -0.241\n",
      "ar.L2         -0.0960      0.007    -13.787      0.000      -0.110      -0.082\n",
      "ar.L3         -0.0512      0.012     -4.167      0.000      -0.075      -0.027\n",
      "ar.L4         -0.0151      0.015     -1.044      0.297      -0.044       0.013\n",
      "ar.L5         -0.0114      0.016     -0.723      0.469      -0.042       0.020\n",
      "sigma2         4.1248      0.016    265.656      0.000       4.094       4.155\n",
      "===================================================================================\n",
      "Ljung-Box (L1) (Q):                   0.00   Jarque-Bera (JB):           4693200.75\n",
      "Prob(Q):                              0.99   Prob(JB):                         0.00\n",
      "Heteroskedasticity (H):               0.17   Skew:                            -0.89\n",
      "Prob(H) (two-sided):                  0.00   Kurtosis:                       213.29\n",
      "===================================================================================\n",
      "\n",
      "Warnings:\n",
      "[1] Covariance matrix calculated using the outer product of gradients (complex-step).\n"
     ]
    }
   ],
   "source": [
    "from statsmodels.tsa.arima.model import ARIMA\n",
    "\n",
    "# ARIMA needs a univariate time series, use original 'Close/Last'\n",
    "df_arima = df.set_index('Date')\n",
    "arima_model = ARIMA(df_arima['Close/Last'], order=(5,1,0))\n",
    "arima_result = arima_model.fit()\n",
    "print(arima_result.summary())"
   ]
  },
  {
   "cell_type": "markdown",
   "id": "ba5f6cbd",
   "metadata": {},
   "source": [
    "# Deployment using Streamlit"
   ]
  },
  {
   "cell_type": "code",
   "execution_count": 30,
   "id": "6722950c",
   "metadata": {},
   "outputs": [],
   "source": [
    "import pickle\n",
    "\n",
    "# Save the fitted model\n",
    "with open(\"arima_model.pkl\", \"wb\") as f:\n",
    "    pickle.dump(arima_result, f)"
   ]
  },
  {
   "cell_type": "code",
   "execution_count": 31,
   "id": "6a54c105",
   "metadata": {},
   "outputs": [
    {
     "name": "stderr",
     "output_type": "stream",
     "text": [
      "2025-10-03 21:34:34.467 WARNING streamlit.runtime.scriptrunner_utils.script_run_context: Thread 'MainThread': missing ScriptRunContext! This warning can be ignored when running in bare mode.\n",
      "2025-10-03 21:34:34.469 WARNING streamlit.runtime.scriptrunner_utils.script_run_context: Thread 'MainThread': missing ScriptRunContext! This warning can be ignored when running in bare mode.\n",
      "2025-10-03 21:34:35.325 \n",
      "  \u001b[33m\u001b[1mWarning:\u001b[0m to view this Streamlit app on a browser, run it with the following\n",
      "  command:\n",
      "\n",
      "    streamlit run C:\\Users\\Ashhar\\AppData\\Roaming\\Python\\Python313\\site-packages\\ipykernel_launcher.py [ARGUMENTS]\n",
      "2025-10-03 21:34:35.326 Thread 'MainThread': missing ScriptRunContext! This warning can be ignored when running in bare mode.\n",
      "2025-10-03 21:34:35.326 Thread 'MainThread': missing ScriptRunContext! This warning can be ignored when running in bare mode.\n",
      "2025-10-03 21:34:35.328 Thread 'MainThread': missing ScriptRunContext! This warning can be ignored when running in bare mode.\n",
      "2025-10-03 21:34:35.331 Thread 'MainThread': missing ScriptRunContext! This warning can be ignored when running in bare mode.\n",
      "2025-10-03 21:34:35.332 Thread 'MainThread': missing ScriptRunContext! This warning can be ignored when running in bare mode.\n",
      "2025-10-03 21:34:35.333 Thread 'MainThread': missing ScriptRunContext! This warning can be ignored when running in bare mode.\n",
      "2025-10-03 21:34:35.334 Thread 'MainThread': missing ScriptRunContext! This warning can be ignored when running in bare mode.\n",
      "2025-10-03 21:34:35.335 Thread 'MainThread': missing ScriptRunContext! This warning can be ignored when running in bare mode.\n",
      "2025-10-03 21:34:35.365 Thread 'MainThread': missing ScriptRunContext! This warning can be ignored when running in bare mode.\n",
      "2025-10-03 21:34:35.366 Thread 'MainThread': missing ScriptRunContext! This warning can be ignored when running in bare mode.\n",
      "2025-10-03 21:34:35.367 Thread 'MainThread': missing ScriptRunContext! This warning can be ignored when running in bare mode.\n",
      "2025-10-03 21:34:35.368 Thread 'MainThread': missing ScriptRunContext! This warning can be ignored when running in bare mode.\n",
      "2025-10-03 21:34:35.369 Thread 'MainThread': missing ScriptRunContext! This warning can be ignored when running in bare mode.\n",
      "2025-10-03 21:34:35.370 Thread 'MainThread': missing ScriptRunContext! This warning can be ignored when running in bare mode.\n",
      "c:\\py-3.13.3\\Lib\\site-packages\\statsmodels\\tsa\\base\\tsa_model.py:837: ValueWarning: No supported index is available. Prediction results will be given with an integer index beginning at `start`.\n",
      "  return get_prediction_index(\n",
      "c:\\py-3.13.3\\Lib\\site-packages\\statsmodels\\tsa\\base\\tsa_model.py:837: FutureWarning: No supported index is available. In the next version, calling this method in a model without a supported index will result in an exception.\n",
      "  return get_prediction_index(\n",
      "2025-10-03 21:34:35.376 Thread 'MainThread': missing ScriptRunContext! This warning can be ignored when running in bare mode.\n",
      "2025-10-03 21:34:35.376 Thread 'MainThread': missing ScriptRunContext! This warning can be ignored when running in bare mode.\n",
      "2025-10-03 21:34:35.377 Thread 'MainThread': missing ScriptRunContext! This warning can be ignored when running in bare mode.\n",
      "2025-10-03 21:34:35.396 Thread 'MainThread': missing ScriptRunContext! This warning can be ignored when running in bare mode.\n",
      "2025-10-03 21:34:35.397 Thread 'MainThread': missing ScriptRunContext! This warning can be ignored when running in bare mode.\n",
      "2025-10-03 21:34:35.398 Thread 'MainThread': missing ScriptRunContext! This warning can be ignored when running in bare mode.\n",
      "2025-10-03 21:34:35.443 Thread 'MainThread': missing ScriptRunContext! This warning can be ignored when running in bare mode.\n",
      "2025-10-03 21:34:35.722 Thread 'MainThread': missing ScriptRunContext! This warning can be ignored when running in bare mode.\n",
      "2025-10-03 21:34:35.723 Thread 'MainThread': missing ScriptRunContext! This warning can be ignored when running in bare mode.\n",
      "2025-10-03 21:34:35.723 Thread 'MainThread': missing ScriptRunContext! This warning can be ignored when running in bare mode.\n",
      "2025-10-03 21:34:35.724 Thread 'MainThread': missing ScriptRunContext! This warning can be ignored when running in bare mode.\n",
      "2025-10-03 21:34:35.726 Thread 'MainThread': missing ScriptRunContext! This warning can be ignored when running in bare mode.\n",
      "2025-10-03 21:34:35.727 Thread 'MainThread': missing ScriptRunContext! This warning can be ignored when running in bare mode.\n",
      "2025-10-03 21:34:35.731 Thread 'MainThread': missing ScriptRunContext! This warning can be ignored when running in bare mode.\n",
      "2025-10-03 21:34:35.732 Thread 'MainThread': missing ScriptRunContext! This warning can be ignored when running in bare mode.\n",
      "2025-10-03 21:34:35.732 Thread 'MainThread': missing ScriptRunContext! This warning can be ignored when running in bare mode.\n",
      "2025-10-03 21:34:35.734 Thread 'MainThread': missing ScriptRunContext! This warning can be ignored when running in bare mode.\n",
      "2025-10-03 21:34:35.735 Thread 'MainThread': missing ScriptRunContext! This warning can be ignored when running in bare mode.\n",
      "2025-10-03 21:34:35.736 Thread 'MainThread': missing ScriptRunContext! This warning can be ignored when running in bare mode.\n",
      "2025-10-03 21:34:35.739 Thread 'MainThread': missing ScriptRunContext! This warning can be ignored when running in bare mode.\n",
      "2025-10-03 21:34:35.740 Thread 'MainThread': missing ScriptRunContext! This warning can be ignored when running in bare mode.\n",
      "2025-10-03 21:34:35.741 Thread 'MainThread': missing ScriptRunContext! This warning can be ignored when running in bare mode.\n",
      "2025-10-03 21:34:35.743 Thread 'MainThread': missing ScriptRunContext! This warning can be ignored when running in bare mode.\n",
      "2025-10-03 21:34:35.743 Thread 'MainThread': missing ScriptRunContext! This warning can be ignored when running in bare mode.\n",
      "2025-10-03 21:34:35.747 Thread 'MainThread': missing ScriptRunContext! This warning can be ignored when running in bare mode.\n",
      "2025-10-03 21:34:35.749 Thread 'MainThread': missing ScriptRunContext! This warning can be ignored when running in bare mode.\n",
      "2025-10-03 21:34:35.750 Thread 'MainThread': missing ScriptRunContext! This warning can be ignored when running in bare mode.\n",
      "2025-10-03 21:34:35.751 Thread 'MainThread': missing ScriptRunContext! This warning can be ignored when running in bare mode.\n",
      "2025-10-03 21:34:35.752 Thread 'MainThread': missing ScriptRunContext! This warning can be ignored when running in bare mode.\n",
      "2025-10-03 21:34:35.753 Session state does not function when running a script without `streamlit run`\n",
      "2025-10-03 21:34:35.754 Thread 'MainThread': missing ScriptRunContext! This warning can be ignored when running in bare mode.\n",
      "2025-10-03 21:34:35.754 Thread 'MainThread': missing ScriptRunContext! This warning can be ignored when running in bare mode.\n",
      "2025-10-03 21:34:35.755 Thread 'MainThread': missing ScriptRunContext! This warning can be ignored when running in bare mode.\n",
      "2025-10-03 21:34:35.756 Thread 'MainThread': missing ScriptRunContext! This warning can be ignored when running in bare mode.\n",
      "2025-10-03 21:34:35.757 Thread 'MainThread': missing ScriptRunContext! This warning can be ignored when running in bare mode.\n",
      "2025-10-03 21:34:35.758 Thread 'MainThread': missing ScriptRunContext! This warning can be ignored when running in bare mode.\n",
      "2025-10-03 21:34:35.760 Thread 'MainThread': missing ScriptRunContext! This warning can be ignored when running in bare mode.\n",
      "2025-10-03 21:34:35.763 Thread 'MainThread': missing ScriptRunContext! This warning can be ignored when running in bare mode.\n",
      "2025-10-03 21:34:35.764 Thread 'MainThread': missing ScriptRunContext! This warning can be ignored when running in bare mode.\n",
      "2025-10-03 21:34:35.766 Thread 'MainThread': missing ScriptRunContext! This warning can be ignored when running in bare mode.\n",
      "2025-10-03 21:34:35.767 Thread 'MainThread': missing ScriptRunContext! This warning can be ignored when running in bare mode.\n",
      "2025-10-03 21:34:35.768 Thread 'MainThread': missing ScriptRunContext! This warning can be ignored when running in bare mode.\n",
      "2025-10-03 21:34:35.769 Thread 'MainThread': missing ScriptRunContext! This warning can be ignored when running in bare mode.\n",
      "2025-10-03 21:34:35.770 Thread 'MainThread': missing ScriptRunContext! This warning can be ignored when running in bare mode.\n",
      "2025-10-03 21:34:35.770 Thread 'MainThread': missing ScriptRunContext! This warning can be ignored when running in bare mode.\n",
      "2025-10-03 21:34:35.773 Thread 'MainThread': missing ScriptRunContext! This warning can be ignored when running in bare mode.\n",
      "2025-10-03 21:34:35.776 Thread 'MainThread': missing ScriptRunContext! This warning can be ignored when running in bare mode.\n",
      "2025-10-03 21:34:35.778 Thread 'MainThread': missing ScriptRunContext! This warning can be ignored when running in bare mode.\n",
      "2025-10-03 21:34:35.780 Thread 'MainThread': missing ScriptRunContext! This warning can be ignored when running in bare mode.\n",
      "2025-10-03 21:34:35.782 Thread 'MainThread': missing ScriptRunContext! This warning can be ignored when running in bare mode.\n",
      "2025-10-03 21:34:35.783 Thread 'MainThread': missing ScriptRunContext! This warning can be ignored when running in bare mode.\n",
      "2025-10-03 21:34:35.784 Thread 'MainThread': missing ScriptRunContext! This warning can be ignored when running in bare mode.\n",
      "2025-10-03 21:34:35.784 Thread 'MainThread': missing ScriptRunContext! This warning can be ignored when running in bare mode.\n",
      "2025-10-03 21:34:35.785 Thread 'MainThread': missing ScriptRunContext! This warning can be ignored when running in bare mode.\n",
      "2025-10-03 21:34:35.786 Thread 'MainThread': missing ScriptRunContext! This warning can be ignored when running in bare mode.\n",
      "2025-10-03 21:34:35.789 Thread 'MainThread': missing ScriptRunContext! This warning can be ignored when running in bare mode.\n",
      "2025-10-03 21:34:35.791 Thread 'MainThread': missing ScriptRunContext! This warning can be ignored when running in bare mode.\n",
      "2025-10-03 21:34:35.793 Thread 'MainThread': missing ScriptRunContext! This warning can be ignored when running in bare mode.\n",
      "2025-10-03 21:34:35.796 Thread 'MainThread': missing ScriptRunContext! This warning can be ignored when running in bare mode.\n",
      "2025-10-03 21:34:35.797 Thread 'MainThread': missing ScriptRunContext! This warning can be ignored when running in bare mode.\n",
      "2025-10-03 21:34:35.798 Thread 'MainThread': missing ScriptRunContext! This warning can be ignored when running in bare mode.\n",
      "2025-10-03 21:34:35.799 Thread 'MainThread': missing ScriptRunContext! This warning can be ignored when running in bare mode.\n",
      "2025-10-03 21:34:35.800 Thread 'MainThread': missing ScriptRunContext! This warning can be ignored when running in bare mode.\n"
     ]
    },
    {
     "data": {
      "text/plain": [
       "DeltaGenerator()"
      ]
     },
     "execution_count": 31,
     "metadata": {},
     "output_type": "execute_result"
    },
    {
     "data": {
      "image/png": "[encoded data removed]",
      "text/plain": [
       "<Figure size 1000x500 with 1 Axes>"
      ]
     },
     "metadata": {},
     "output_type": "display_data"
    }
   ],
   "source": [
    "# Import Libraries\n",
    "# The code imports necessary libraries:\n",
    "\n",
    "# streamlit for the web app\n",
    "# pandas and numpy for data handling\n",
    "# pickle for loading the saved ARIMA model\n",
    "# matplotlib.pyplot for plotting\n",
    "\n",
    "import streamlit as st\n",
    "import pandas as pd\n",
    "import numpy as np\n",
    "import matplotlib.pyplot as plt\n",
    "\n",
    "# Set Up the Streamlit Page\n",
    "# The app title and layout are set using st.set_page_config and st.title.\n",
    "# A welcome message is displayed with st.markdown.\n",
    "\n",
    "st.set_page_config(page_title=\"Crude Oil Price Forecasting\", layout=\"centered\")\n",
    "\n",
    "st.title(\"📈 Crude Oil Price Forecasting\")\n",
    "\n",
    "st.markdown(\"\"\"\n",
    "Welcome to the Oil Price Prediction App!  \n",
    "You can forecast future crude oil prices using an ARIMA time series model, or try a feature-based prediction using your own inputs.\n",
    "\"\"\")\n",
    "\n",
    "# Load the ARIMA Model\n",
    "# The ARIMA model, previously trained and saved as arima_model.pkl, is loaded using pickle.load.\n",
    "\n",
    "st.header(\"ARIMA Time Series Forecast\")\n",
    "with open(\"arima_model.pkl\", \"rb\") as f:\n",
    "    model = pickle.load(f)\n",
    "\n",
    "# --- ARIMA Forecast Section ---\n",
    "\n",
    "# A slider lets the user choose how many days to forecast.\n",
    "# The model forecasts future prices for the selected number of days.\n",
    "# The forecasted prices are shown in a table (st.dataframe).\n",
    "# A plot compares historical prices with the forecasted values.\n",
    "\n",
    "steps = st.slider(\"Select number of days to forecast\", min_value=1, max_value=30, value=7)\n",
    "forecast = model.forecast(steps=steps)\n",
    "\n",
    "st.subheader(\"Forecasted Close/Last Prices\")\n",
    "st.dataframe(pd.DataFrame({'Forecasted Price': forecast}))\n",
    "\n",
    "fig, ax = plt.subplots(figsize=(10, 5))\n",
    "pd.Series(model.data.endog).plot(ax=ax, label=\"Historical Close/Last\")\n",
    "forecast_idx = pd.RangeIndex(start=len(model.data.endog), stop=len(model.data.endog) + steps)\n",
    "pd.Series(forecast, index=forecast_idx).plot(ax=ax, color='red', label=\"Forecast\")\n",
    "ax.set_xlabel(\"Time Index\")\n",
    "ax.set_ylabel(\"Close/Last Price\")\n",
    "ax.set_title(\"ARIMA Forecast vs Historical Data\")\n",
    "ax.legend()\n",
    "st.pyplot(fig)\n",
    "\n",
    "st.markdown(\"---\")\n",
    "\n",
    "# --- Feature-based Prediction Section ---\n",
    "# The user can enter feature values (date, open, high, low, volume_log) using input widgets.\n",
    "# When the \"Predict\" button is clicked, a placeholder prediction is shown\n",
    "\n",
    "st.header(\"Feature-based Price Prediction (Demo)\")\n",
    "\n",
    "st.write(\"Enter feature values to predict the closing price (demo only):\")\n",
    "\n",
    "date = st.date_input(\"Select a date:\", pd.to_datetime(\"2022-10-28\"))\n",
    "date_timestamp = pd.to_datetime(date).timestamp()\n",
    "\n",
    "open_ = st.number_input(\"Open price:\", value=70.0)\n",
    "high = st.number_input(\"High price:\", value=75.0)\n",
    "low = st.number_input(\"Low price:\", value=68.0)\n",
    "volume_log = st.number_input(\"Log(Volume+1):\", value=12.0)\n",
    "\n",
    "if st.button(\"Predict\"):\n",
    "    # X_new = np.array([[date, open_, high, low, volume_log]])\n",
    "    # pred = rf.predict(X_new)  # Uncomment and use your trained model\n",
    "    pred = 70 + np.random.randn()  # Placeholder for demonstration\n",
    "    st.success(f\"Predicted Close/Last Price: {pred:.2f}\")\n",
    "\n",
    "st.markdown(\"\"\"\n",
    "---\n",
    "*This app was built for educational purposes. For best results, use the ARIMA forecast above. Feature-based prediction is a demo placeholder.*\n",
    "\"\"\")"
   ]
  },
  {
   "cell_type": "markdown",
   "id": "a665ed28",
   "metadata": {},
   "source": [
    "## Final Recommendation and Interpretation\n",
    "\n",
    "### Model Performance & Insights\n",
    "\n",
    "- **ARIMA Model:**  \n",
    "  The ARIMA model effectively captures the time series trends and seasonality in crude oil prices. It provides reliable short-term forecasts, as visualized in the Streamlit app. The model is suitable for forecasting daily closing prices based on historical data.\n",
    "\n",
    "- **Feature-based Models:**  \n",
    "  Linear Regression, Decision Tree, and Random Forest models were also trained using engineered features (date, open, high, low, log(volume)). Among these, Random Forest generally provided the best test performance, indicating that non-linear relationships exist in the data. However, these models require careful feature engineering and may not capture temporal dependencies as well as ARIMA.\n",
    "\n",
    "### Recommendations\n",
    "\n",
    "1. **For Short-Term Forecasting:**  \n",
    "   Use the ARIMA model for predicting crude oil prices up to 30 days ahead. It leverages historical price patterns and seasonality, making it robust for time series forecasting.\n",
    "\n",
    "2. **For Feature-based Prediction:**  \n",
    "   Feature-based models can be used for scenario analysis (e.g., \"what if\" predictions based on market conditions). For production use, further tuning and validation are recommended, and the model should be retrained regularly with new data.\n",
    "\n",
    "3. **Handling Outliers & Data Quality:**  \n",
    "   Outliers and missing values should be continuously monitored. Robust scaling or exclusion of extreme outliers is advised for model stability.\n",
    "\n",
    "4. **Model Deployment:**  \n",
    "   The Streamlit app provides an interactive and user-friendly interface for both ARIMA-based and feature-based predictions. For business use, integrate the app with automated data pipelines and regular model retraining.\n",
    "\n",
    "### Interpretation\n",
    "\n",
    "- **Volatility:**  \n",
    "  Crude oil prices are highly volatile and influenced by global events. Forecasts should be interpreted with caution, especially during periods of market disruption.\n",
    "\n",
    "- **Seasonality:**  \n",
    "  Monthly and seasonal patterns are present and should be considered in planning and risk management.\n",
    "\n",
    "- **Limitations:**  \n",
    "  Forecast accuracy decreases for longer horizons. External factors (e.g., geopolitical events, policy changes) not present in the historical data can impact future prices.\n",
    "\n",
    "---\n",
    "\n",
    "**In summary:**  \n",
    "The ARIMA model is recommended for short-term crude oil price forecasting, while feature-based models can support scenario analysis. The deployed Streamlit app enables easy access to both approaches for analysts and decision-makers."
   ]
  },
  {
   "cell_type": "code",
   "execution_count": null,
   "id": "8f7bb5d7",
   "metadata": {},
   "outputs": [],
   "source": []
  }
 ],
 "metadata": {
  "kernelspec": {
   "display_name": "Python 3",
   "language": "python",
   "name": "python3"
  },
  "language_info": {
   "codemirror_mode": {
    "name": "ipython",
    "version": 3
   },
   "file_extension": ".py",
   "mimetype": "text/x-python",
   "name": "python",
   "nbconvert_exporter": "python",
   "pygments_lexer": "ipython3",
   "version": "3.13.3"
  }
 },
 "nbformat": 4,
 "nbformat_minor": 5
}
